{
 "cells": [
  {
   "cell_type": "code",
   "execution_count": 1,
   "metadata": {},
   "outputs": [],
   "source": [
    "import pandas as pd\n",
    "from collections import Counter\n",
    "import re\n",
    "import nltk\n",
    "from sklearn.model_selection import train_test_split\n",
    "from sklearn.feature_extraction.text import CountVectorizer, TfidfVectorizer\n",
    "from sklearn.naive_bayes import MultinomialNB\n",
    "from sklearn.metrics import classification_report, confusion_matrix, accuracy_score\n",
    "from sklearn.linear_model import LogisticRegression"
   ]
  },
  {
   "cell_type": "markdown",
   "metadata": {},
   "source": [
    "###### Reading data into a pandas dataframe"
   ]
  },
  {
   "cell_type": "code",
   "execution_count": 2,
   "metadata": {},
   "outputs": [
    {
     "name": "stderr",
     "output_type": "stream",
     "text": [
      "C:\\Users\\Piyush\\Anaconda3\\lib\\site-packages\\ipykernel_launcher.py:1: FutureWarning: from_csv is deprecated. Please use read_csv(...) instead. Note that some of the default arguments are different, so please refer to the documentation for from_csv when changing your function calls\n",
      "  \"\"\"Entry point for launching an IPython kernel.\n"
     ]
    }
   ],
   "source": [
    "df = pd.DataFrame.from_csv('C:/Users/Piyush/Google Drive/MScA/nlp/assignment_4/Food_Inspections.csv')"
   ]
  },
  {
   "cell_type": "markdown",
   "metadata": {},
   "source": [
    "###### Dropping rows where we don't have any violations"
   ]
  },
  {
   "cell_type": "code",
   "execution_count": 3,
   "metadata": {},
   "outputs": [],
   "source": [
    "df.dropna(subset=['Violations'], inplace=True)"
   ]
  },
  {
   "cell_type": "markdown",
   "metadata": {},
   "source": [
    "###### Dropping columns which are not needed"
   ]
  },
  {
   "cell_type": "code",
   "execution_count": 4,
   "metadata": {},
   "outputs": [],
   "source": [
    "df.drop(labels=['DBA Name', 'AKA Name', 'License #', 'Facility Type', 'Risk', 'Address', 'City', 'State', 'Zip', 'Inspection Date', 'Inspection Type', 'Latitude', 'Longitude', 'Location'], axis=1, inplace=True)"
   ]
  },
  {
   "cell_type": "markdown",
   "metadata": {},
   "source": [
    "###### Printing unique values for Results"
   ]
  },
  {
   "cell_type": "code",
   "execution_count": 5,
   "metadata": {},
   "outputs": [
    {
     "data": {
      "text/plain": [
       "array(['Pass w/ Conditions', 'Fail', 'Pass', 'No Entry',\n",
       "       'Out of Business', 'Not Ready'], dtype=object)"
      ]
     },
     "execution_count": 5,
     "metadata": {},
     "output_type": "execute_result"
    }
   ],
   "source": [
    "df['Results'].unique()"
   ]
  },
  {
   "cell_type": "markdown",
   "metadata": {},
   "source": [
    "###### We are going to drop rows where Result is not \"Pass\", \"Fail\", or \"Pass w/ Conditions\""
   ]
  },
  {
   "cell_type": "code",
   "execution_count": 6,
   "metadata": {},
   "outputs": [],
   "source": [
    "df = df[(df['Results'] == 'Pass w/ Conditions') | (df['Results'] ==  'Fail') | (df['Results'] == 'Pass')]"
   ]
  },
  {
   "cell_type": "code",
   "execution_count": 7,
   "metadata": {},
   "outputs": [
    {
     "data": {
      "text/plain": [
       "(135102, 2)"
      ]
     },
     "execution_count": 7,
     "metadata": {},
     "output_type": "execute_result"
    }
   ],
   "source": [
    "df.shape"
   ]
  },
  {
   "cell_type": "markdown",
   "metadata": {},
   "source": [
    "###### Some restaurants have more than 1 violations. These violations are delimited by \"|\". We are applying regex to split all violations into a list"
   ]
  },
  {
   "cell_type": "code",
   "execution_count": 8,
   "metadata": {},
   "outputs": [
    {
     "data": {
      "text/plain": [
       "'1. PERSON IN CHARGE PRESENT, DEMONSTRATES KNOWLEDGE, AND PERFORMS DUTIES - Comments: NO PERSON IN CHARGE PRESENT AT THE TIME OF INSPECTION. PRIORITY FOUNDATION VIOLATION. NO CITATION ISSUED. | 3. MANAGEMENT, FOOD EMPLOYEE AND CONDITIONAL EMPLOYEE; KNOWLEDGE, RESPONSIBILITIES AND REPORTING - Comments: NOTED NO EMPLOYEE HEALTH POLICY ON SITE AT THE TIME OF INSPECTION FOLLOWING THE NEW CODE AND GUIDELINES. INSTRUCTED TO HAVE VERIFICATION OF POLICY FOR EACH EMPLOYEE ONE ON SITE AT ALL TIMES. PRIORITY FOUNDATION #7-38-010. NO CITATION ISSUED TODAY | 5. PROCEDURES FOR RESPONDING TO VOMITING AND DIARRHEAL EVENTS - Comments: 2-501.11 MANAGEMENT UNABLE TO PROVIDE A PROCEDURE FOR CLEANING UP VOMITING AND DIARRHEA.INSTRUCTED TO HAVE ONE. PRIORITY FOUNDATION #7-38-005. NO CITATION ISSUED - | 50. HOT & COLD WATER AVAILABLE; ADEQUATE PRESSURE - Comments: NOTED NO HOT RUNNING WATER AT THE KITCHEN PREP AREA HAND WASH SINK AND 3 COMPARTMENT SINK AND EMPLOYEE BATHROOMS HAND WASH SINK AND ONE OF 3 HAND WASH SINKS AT THE BOYS BATHROOM. TEMPERATURE OF WATER WAS AS FOLLOWS:-KITCHEN HAND WASH SINK 80.3F, 3 COMPARTMENT SINK WAS 85.2F, NO HOT OR COLD RUNNING WATER AT THE HAND WASH SINK OF THE BOYS BATHROOM (BAD SENSOR) AND EMPLOYEE BATHROOMS 81.3F AND 45F. MANAGER IMMEDIATELY CALLED FOR REPAIRS. PRIORITY VIOLATION #7-38-030(C)'"
      ]
     },
     "execution_count": 8,
     "metadata": {},
     "output_type": "execute_result"
    }
   ],
   "source": [
    "df.iloc[1,].Violations"
   ]
  },
  {
   "cell_type": "code",
   "execution_count": 9,
   "metadata": {},
   "outputs": [],
   "source": [
    "df['Violations_List'] = df['Violations'].apply(lambda x: re.split(\"[|]+\", x))"
   ]
  },
  {
   "cell_type": "code",
   "execution_count": 10,
   "metadata": {},
   "outputs": [
    {
     "data": {
      "text/plain": [
       "['1. PERSON IN CHARGE PRESENT, DEMONSTRATES KNOWLEDGE, AND PERFORMS DUTIES - Comments: NO PERSON IN CHARGE PRESENT AT THE TIME OF INSPECTION. PRIORITY FOUNDATION VIOLATION. NO CITATION ISSUED. ',\n",
       " ' 3. MANAGEMENT, FOOD EMPLOYEE AND CONDITIONAL EMPLOYEE; KNOWLEDGE, RESPONSIBILITIES AND REPORTING - Comments: NOTED NO EMPLOYEE HEALTH POLICY ON SITE AT THE TIME OF INSPECTION FOLLOWING THE NEW CODE AND GUIDELINES. INSTRUCTED TO HAVE VERIFICATION OF POLICY FOR EACH EMPLOYEE ONE ON SITE AT ALL TIMES. PRIORITY FOUNDATION #7-38-010. NO CITATION ISSUED TODAY ',\n",
       " ' 5. PROCEDURES FOR RESPONDING TO VOMITING AND DIARRHEAL EVENTS - Comments: 2-501.11 MANAGEMENT UNABLE TO PROVIDE A PROCEDURE FOR CLEANING UP VOMITING AND DIARRHEA.INSTRUCTED TO HAVE ONE. PRIORITY FOUNDATION #7-38-005. NO CITATION ISSUED - ',\n",
       " ' 50. HOT & COLD WATER AVAILABLE; ADEQUATE PRESSURE - Comments: NOTED NO HOT RUNNING WATER AT THE KITCHEN PREP AREA HAND WASH SINK AND 3 COMPARTMENT SINK AND EMPLOYEE BATHROOMS HAND WASH SINK AND ONE OF 3 HAND WASH SINKS AT THE BOYS BATHROOM. TEMPERATURE OF WATER WAS AS FOLLOWS:-KITCHEN HAND WASH SINK 80.3F, 3 COMPARTMENT SINK WAS 85.2F, NO HOT OR COLD RUNNING WATER AT THE HAND WASH SINK OF THE BOYS BATHROOM (BAD SENSOR) AND EMPLOYEE BATHROOMS 81.3F AND 45F. MANAGER IMMEDIATELY CALLED FOR REPAIRS. PRIORITY VIOLATION #7-38-030(C)']"
      ]
     },
     "execution_count": 10,
     "metadata": {},
     "output_type": "execute_result"
    }
   ],
   "source": [
    "df.iloc[1,].Violations_List"
   ]
  },
  {
   "cell_type": "markdown",
   "metadata": {},
   "source": [
    "###### Removing Health Code and keeping just the comments"
   ]
  },
  {
   "cell_type": "code",
   "execution_count": 11,
   "metadata": {},
   "outputs": [],
   "source": [
    "# Function to remove health code from the violation\n",
    "def aggregate_comments(violations):\n",
    "    comments = list()\n",
    "    for violation in violations:\n",
    "        violation_info = re.split(\"- Comments:\", violation)\n",
    "        if len(violation_info) > 1:\n",
    "            comments.append(violation_info[1].strip().upper())\n",
    "    \n",
    "    if len(comments) > 1:\n",
    "        return \",\".join(comments)\n",
    "    elif len(comments) == 1:\n",
    "        return comments[0]\n",
    "    return \"\""
   ]
  },
  {
   "cell_type": "code",
   "execution_count": 12,
   "metadata": {},
   "outputs": [],
   "source": [
    "df['Comments'] = df['Violations_List'].apply(lambda x: aggregate_comments(x))"
   ]
  },
  {
   "cell_type": "code",
   "execution_count": 13,
   "metadata": {},
   "outputs": [
    {
     "data": {
      "text/plain": [
       "'NO PERSON IN CHARGE PRESENT AT THE TIME OF INSPECTION. PRIORITY FOUNDATION VIOLATION. NO CITATION ISSUED.,NOTED NO EMPLOYEE HEALTH POLICY ON SITE AT THE TIME OF INSPECTION FOLLOWING THE NEW CODE AND GUIDELINES. INSTRUCTED TO HAVE VERIFICATION OF POLICY FOR EACH EMPLOYEE ONE ON SITE AT ALL TIMES. PRIORITY FOUNDATION #7-38-010. NO CITATION ISSUED TODAY,2-501.11 MANAGEMENT UNABLE TO PROVIDE A PROCEDURE FOR CLEANING UP VOMITING AND DIARRHEA.INSTRUCTED TO HAVE ONE. PRIORITY FOUNDATION #7-38-005. NO CITATION ISSUED -,NOTED NO HOT RUNNING WATER AT THE KITCHEN PREP AREA HAND WASH SINK AND 3 COMPARTMENT SINK AND EMPLOYEE BATHROOMS HAND WASH SINK AND ONE OF 3 HAND WASH SINKS AT THE BOYS BATHROOM. TEMPERATURE OF WATER WAS AS FOLLOWS:-KITCHEN HAND WASH SINK 80.3F, 3 COMPARTMENT SINK WAS 85.2F, NO HOT OR COLD RUNNING WATER AT THE HAND WASH SINK OF THE BOYS BATHROOM (BAD SENSOR) AND EMPLOYEE BATHROOMS 81.3F AND 45F. MANAGER IMMEDIATELY CALLED FOR REPAIRS. PRIORITY VIOLATION #7-38-030(C)'"
      ]
     },
     "execution_count": 13,
     "metadata": {},
     "output_type": "execute_result"
    }
   ],
   "source": [
    "df.iloc[1,].Comments"
   ]
  },
  {
   "cell_type": "markdown",
   "metadata": {},
   "source": [
    "###### Converting Results to categorical"
   ]
  },
  {
   "cell_type": "code",
   "execution_count": 14,
   "metadata": {},
   "outputs": [],
   "source": [
    "df['Results_Flag'] = df.Results.map({'Pass w/ Conditions':0, 'Pass':1, 'Fail':2})"
   ]
  },
  {
   "cell_type": "code",
   "execution_count": 15,
   "metadata": {},
   "outputs": [
    {
     "data": {
      "text/html": [
       "<div>\n",
       "<style scoped>\n",
       "    .dataframe tbody tr th:only-of-type {\n",
       "        vertical-align: middle;\n",
       "    }\n",
       "\n",
       "    .dataframe tbody tr th {\n",
       "        vertical-align: top;\n",
       "    }\n",
       "\n",
       "    .dataframe thead th {\n",
       "        text-align: right;\n",
       "    }\n",
       "</style>\n",
       "<table border=\"1\" class=\"dataframe\">\n",
       "  <thead>\n",
       "    <tr style=\"text-align: right;\">\n",
       "      <th></th>\n",
       "      <th>Results</th>\n",
       "      <th>Violations</th>\n",
       "      <th>Violations_List</th>\n",
       "      <th>Comments</th>\n",
       "      <th>Results_Flag</th>\n",
       "    </tr>\n",
       "    <tr>\n",
       "      <th>Inspection ID</th>\n",
       "      <th></th>\n",
       "      <th></th>\n",
       "      <th></th>\n",
       "      <th></th>\n",
       "      <th></th>\n",
       "    </tr>\n",
       "  </thead>\n",
       "  <tbody>\n",
       "    <tr>\n",
       "      <th>2282603</th>\n",
       "      <td>Pass w/ Conditions</td>\n",
       "      <td>25. CONSUMER ADVISORY PROVIDED FOR RAW/UNDERCO...</td>\n",
       "      <td>[25. CONSUMER ADVISORY PROVIDED FOR RAW/UNDERC...</td>\n",
       "      <td>ALL MENU ITEMS THAT PERTAIN TO THE CONSUMER AD...</td>\n",
       "      <td>0</td>\n",
       "    </tr>\n",
       "    <tr>\n",
       "      <th>2282582</th>\n",
       "      <td>Fail</td>\n",
       "      <td>1. PERSON IN CHARGE PRESENT, DEMONSTRATES KNOW...</td>\n",
       "      <td>[1. PERSON IN CHARGE PRESENT, DEMONSTRATES KNO...</td>\n",
       "      <td>NO PERSON IN CHARGE PRESENT AT THE TIME OF INS...</td>\n",
       "      <td>2</td>\n",
       "    </tr>\n",
       "    <tr>\n",
       "      <th>2282567</th>\n",
       "      <td>Pass</td>\n",
       "      <td>47. FOOD &amp; NON-FOOD CONTACT SURFACES CLEANABLE...</td>\n",
       "      <td>[47. FOOD &amp; NON-FOOD CONTACT SURFACES CLEANABL...</td>\n",
       "      <td>MUST CLEAN AND SANITIZE ALL CHOPPING BOARDS AN...</td>\n",
       "      <td>1</td>\n",
       "    </tr>\n",
       "    <tr>\n",
       "      <th>2282535</th>\n",
       "      <td>Pass w/ Conditions</td>\n",
       "      <td>5. PROCEDURES FOR RESPONDING TO VOMITING AND D...</td>\n",
       "      <td>[5. PROCEDURES FOR RESPONDING TO VOMITING AND ...</td>\n",
       "      <td>OBSERVED NO PROCEDURE FOR RESPONDING TO VOMITI...</td>\n",
       "      <td>0</td>\n",
       "    </tr>\n",
       "    <tr>\n",
       "      <th>2282536</th>\n",
       "      <td>Pass w/ Conditions</td>\n",
       "      <td>16. FOOD-CONTACT SURFACES: CLEANED &amp; SANITIZED...</td>\n",
       "      <td>[16. FOOD-CONTACT SURFACES: CLEANED &amp; SANITIZE...</td>\n",
       "      <td>FOUND LOW TEMPERATURE DISH WASHING MACHINE FIN...</td>\n",
       "      <td>0</td>\n",
       "    </tr>\n",
       "  </tbody>\n",
       "</table>\n",
       "</div>"
      ],
      "text/plain": [
       "                          Results  \\\n",
       "Inspection ID                       \n",
       "2282603        Pass w/ Conditions   \n",
       "2282582                      Fail   \n",
       "2282567                      Pass   \n",
       "2282535        Pass w/ Conditions   \n",
       "2282536        Pass w/ Conditions   \n",
       "\n",
       "                                                      Violations  \\\n",
       "Inspection ID                                                      \n",
       "2282603        25. CONSUMER ADVISORY PROVIDED FOR RAW/UNDERCO...   \n",
       "2282582        1. PERSON IN CHARGE PRESENT, DEMONSTRATES KNOW...   \n",
       "2282567        47. FOOD & NON-FOOD CONTACT SURFACES CLEANABLE...   \n",
       "2282535        5. PROCEDURES FOR RESPONDING TO VOMITING AND D...   \n",
       "2282536        16. FOOD-CONTACT SURFACES: CLEANED & SANITIZED...   \n",
       "\n",
       "                                                 Violations_List  \\\n",
       "Inspection ID                                                      \n",
       "2282603        [25. CONSUMER ADVISORY PROVIDED FOR RAW/UNDERC...   \n",
       "2282582        [1. PERSON IN CHARGE PRESENT, DEMONSTRATES KNO...   \n",
       "2282567        [47. FOOD & NON-FOOD CONTACT SURFACES CLEANABL...   \n",
       "2282535        [5. PROCEDURES FOR RESPONDING TO VOMITING AND ...   \n",
       "2282536        [16. FOOD-CONTACT SURFACES: CLEANED & SANITIZE...   \n",
       "\n",
       "                                                        Comments  Results_Flag  \n",
       "Inspection ID                                                                   \n",
       "2282603        ALL MENU ITEMS THAT PERTAIN TO THE CONSUMER AD...             0  \n",
       "2282582        NO PERSON IN CHARGE PRESENT AT THE TIME OF INS...             2  \n",
       "2282567        MUST CLEAN AND SANITIZE ALL CHOPPING BOARDS AN...             1  \n",
       "2282535        OBSERVED NO PROCEDURE FOR RESPONDING TO VOMITI...             0  \n",
       "2282536        FOUND LOW TEMPERATURE DISH WASHING MACHINE FIN...             0  "
      ]
     },
     "execution_count": 15,
     "metadata": {},
     "output_type": "execute_result"
    }
   ],
   "source": [
    "df.head()"
   ]
  },
  {
   "cell_type": "markdown",
   "metadata": {},
   "source": [
    "###### Splitting the data into train and test"
   ]
  },
  {
   "cell_type": "code",
   "execution_count": 16,
   "metadata": {},
   "outputs": [
    {
     "name": "stdout",
     "output_type": "stream",
     "text": [
      "(135102,)\n",
      "(135102,)\n"
     ]
    }
   ],
   "source": [
    "# how to define X and y (from the citation data) for use with COUNTVECTORIZER\n",
    "X = df.Comments #Predictor\n",
    "y = df.Results_Flag\n",
    "print(X.shape)\n",
    "print(y.shape)"
   ]
  },
  {
   "cell_type": "code",
   "execution_count": 17,
   "metadata": {},
   "outputs": [
    {
     "name": "stdout",
     "output_type": "stream",
     "text": [
      "(101326,)\n",
      "(33776,)\n",
      "(101326,)\n",
      "(33776,)\n"
     ]
    }
   ],
   "source": [
    "# split X and y into training and testing sets\n",
    "X_train, X_test, y_train, y_test = train_test_split(X, y, random_state=1)\n",
    "print(X_train.shape)\n",
    "print(X_test.shape)\n",
    "print(y_train.shape)\n",
    "print(y_test.shape)"
   ]
  },
  {
   "cell_type": "markdown",
   "metadata": {},
   "source": [
    "###### Creating models using different vectorizing techniques"
   ]
  },
  {
   "cell_type": "code",
   "execution_count": 18,
   "metadata": {},
   "outputs": [],
   "source": [
    "RESULTS = list()"
   ]
  },
  {
   "cell_type": "code",
   "execution_count": 19,
   "metadata": {},
   "outputs": [],
   "source": [
    "def model_selection(vectorizer, vectorizer_description):\n",
    "    X_train_dtm = vectorizer.fit_transform(X_train)\n",
    "    X_test_dtm = vectorizer.transform(X_test)\n",
    "    \n",
    "    #Fitting Naive Bayer model\n",
    "    nb = MultinomialNB()\n",
    "    nb.fit(X_train_dtm, y_train)\n",
    "    y_pred_class_nb = nb.predict(X_test_dtm)\n",
    "    \n",
    "    #Fitting Logistic Regression model\n",
    "    logreg = LogisticRegression()\n",
    "    logreg.fit(X_train_dtm, y_train)\n",
    "    y_pred_class_logit = logreg.predict(X_test_dtm)\n",
    "    \n",
    "    return (\n",
    "            vectorizer_description, \n",
    "            X_train_dtm.shape[1], \n",
    "            accuracy_score(y_test, y_pred_class_nb), \n",
    "            accuracy_score(y_test, y_pred_class_logit)\n",
    "        )"
   ]
  },
  {
   "cell_type": "code",
   "execution_count": 20,
   "metadata": {},
   "outputs": [],
   "source": [
    "RESULTS.append(model_selection(CountVectorizer(stop_words='english'), \"CountVectorizer with uni-grams\"))"
   ]
  },
  {
   "cell_type": "code",
   "execution_count": 21,
   "metadata": {},
   "outputs": [],
   "source": [
    "RESULTS.append(model_selection(CountVectorizer(stop_words='english', ngram_range=(1, 3)), \"CountVectorizer with n-grams\"))"
   ]
  },
  {
   "cell_type": "code",
   "execution_count": 22,
   "metadata": {},
   "outputs": [],
   "source": [
    "RESULTS.append(model_selection(TfidfVectorizer(stop_words='english'), \"TfidfVectorizer with uni-grams\"))"
   ]
  },
  {
   "cell_type": "code",
   "execution_count": 23,
   "metadata": {},
   "outputs": [],
   "source": [
    "RESULTS.append(model_selection(TfidfVectorizer(stop_words='english', ngram_range=(1, 3)), \"TfidfVectorizer with n-grams\"))"
   ]
  },
  {
   "cell_type": "code",
   "execution_count": 24,
   "metadata": {},
   "outputs": [
    {
     "data": {
      "text/html": [
       "<div>\n",
       "<style scoped>\n",
       "    .dataframe tbody tr th:only-of-type {\n",
       "        vertical-align: middle;\n",
       "    }\n",
       "\n",
       "    .dataframe tbody tr th {\n",
       "        vertical-align: top;\n",
       "    }\n",
       "\n",
       "    .dataframe thead th {\n",
       "        text-align: right;\n",
       "    }\n",
       "</style>\n",
       "<table border=\"1\" class=\"dataframe\">\n",
       "  <thead>\n",
       "    <tr style=\"text-align: right;\">\n",
       "      <th></th>\n",
       "      <th>Vectorizer</th>\n",
       "      <th>Feature Space</th>\n",
       "      <th>Naive Bayes Accuracy</th>\n",
       "      <th>Logistic Accuracy</th>\n",
       "    </tr>\n",
       "  </thead>\n",
       "  <tbody>\n",
       "    <tr>\n",
       "      <th>0</th>\n",
       "      <td>CountVectorizer with uni-grams</td>\n",
       "      <td>37054</td>\n",
       "      <td>0.868664</td>\n",
       "      <td>0.936493</td>\n",
       "    </tr>\n",
       "    <tr>\n",
       "      <th>1</th>\n",
       "      <td>CountVectorizer with n-grams</td>\n",
       "      <td>2300859</td>\n",
       "      <td>0.879944</td>\n",
       "      <td>0.942829</td>\n",
       "    </tr>\n",
       "    <tr>\n",
       "      <th>2</th>\n",
       "      <td>TfidfVectorizer with uni-grams</td>\n",
       "      <td>37054</td>\n",
       "      <td>0.870944</td>\n",
       "      <td>0.932348</td>\n",
       "    </tr>\n",
       "    <tr>\n",
       "      <th>3</th>\n",
       "      <td>TfidfVectorizer with n-grams</td>\n",
       "      <td>2300859</td>\n",
       "      <td>0.831093</td>\n",
       "      <td>0.934924</td>\n",
       "    </tr>\n",
       "  </tbody>\n",
       "</table>\n",
       "</div>"
      ],
      "text/plain": [
       "                       Vectorizer  Feature Space  Naive Bayes Accuracy  \\\n",
       "0  CountVectorizer with uni-grams          37054              0.868664   \n",
       "1    CountVectorizer with n-grams        2300859              0.879944   \n",
       "2  TfidfVectorizer with uni-grams          37054              0.870944   \n",
       "3    TfidfVectorizer with n-grams        2300859              0.831093   \n",
       "\n",
       "   Logistic Accuracy  \n",
       "0           0.936493  \n",
       "1           0.942829  \n",
       "2           0.932348  \n",
       "3           0.934924  "
      ]
     },
     "execution_count": 24,
     "metadata": {},
     "output_type": "execute_result"
    }
   ],
   "source": [
    "pd.DataFrame(RESULTS, columns=['Vectorizer', 'Feature Space', 'Naive Bayes Accuracy', 'Logistic Accuracy'])"
   ]
  },
  {
   "cell_type": "markdown",
   "metadata": {},
   "source": [
    "###### The accuracy has slightly improved due to addition of n-grams, but the feature space has exploded. The model performance increase compared to feature space increase is negligible. Thus, for now we should consider the simpler model (with uni-grams). Both Tfidf and CountVectorizer perform equally well. I would probably go with CountVectorizer as it is a simpler model."
   ]
  }
 ],
 "metadata": {
  "kernelspec": {
   "display_name": "Python 3",
   "language": "python",
   "name": "python3"
  },
  "language_info": {
   "codemirror_mode": {
    "name": "ipython",
    "version": 3
   },
   "file_extension": ".py",
   "mimetype": "text/x-python",
   "name": "python",
   "nbconvert_exporter": "python",
   "pygments_lexer": "ipython3",
   "version": "3.6.5"
  }
 },
 "nbformat": 4,
 "nbformat_minor": 2
}
