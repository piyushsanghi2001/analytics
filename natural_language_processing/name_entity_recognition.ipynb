{
 "cells": [
  {
   "cell_type": "code",
   "execution_count": 59,
   "metadata": {},
   "outputs": [],
   "source": [
    "import nltk\n",
    "import pandas as pd\n",
    "from collections import Counter"
   ]
  },
  {
   "cell_type": "markdown",
   "metadata": {},
   "source": [
    "###### Reading the data"
   ]
  },
  {
   "cell_type": "code",
   "execution_count": 14,
   "metadata": {},
   "outputs": [],
   "source": [
    "df = pd.read_pickle(\"news_cat.pkl\")"
   ]
  },
  {
   "cell_type": "code",
   "execution_count": 15,
   "metadata": {},
   "outputs": [
    {
     "data": {
      "text/html": [
       "<div>\n",
       "<style scoped>\n",
       "    .dataframe tbody tr th:only-of-type {\n",
       "        vertical-align: middle;\n",
       "    }\n",
       "\n",
       "    .dataframe tbody tr th {\n",
       "        vertical-align: top;\n",
       "    }\n",
       "\n",
       "    .dataframe thead th {\n",
       "        text-align: right;\n",
       "    }\n",
       "</style>\n",
       "<table border=\"1\" class=\"dataframe\">\n",
       "  <thead>\n",
       "    <tr style=\"text-align: right;\">\n",
       "      <th></th>\n",
       "      <th>crawled</th>\n",
       "      <th>language</th>\n",
       "      <th>text</th>\n",
       "      <th>title</th>\n",
       "    </tr>\n",
       "  </thead>\n",
       "  <tbody>\n",
       "    <tr>\n",
       "      <th>0</th>\n",
       "      <td>2018-01-30T23:03:51.004+02:00</td>\n",
       "      <td>english</td>\n",
       "      <td>by Abhishek K Global Telehandler Market 2023 D...</td>\n",
       "      <td>Global Telehandler Market 2023 Demand by Segme...</td>\n",
       "    </tr>\n",
       "    <tr>\n",
       "      <th>1</th>\n",
       "      <td>2018-01-30T23:06:46.024+02:00</td>\n",
       "      <td>english</td>\n",
       "      <td>favorite this post 2014 Caterpillar 314E LCR h...</td>\n",
       "      <td>2014 Caterpillar 314E LCR</td>\n",
       "    </tr>\n",
       "    <tr>\n",
       "      <th>2</th>\n",
       "      <td>2018-01-30T23:18:35.023+02:00</td>\n",
       "      <td>english</td>\n",
       "      <td>By: MAX NISEN The Amazon health care threat ha...</td>\n",
       "      <td>Amazon, Berkshire, JPMorgan health announcemen...</td>\n",
       "    </tr>\n",
       "    <tr>\n",
       "      <th>3</th>\n",
       "      <td>2018-01-30T23:20:54.012+02:00</td>\n",
       "      <td>english</td>\n",
       "      <td>QR Code Link to This Post MONTHLY PUBLIC AUCTI...</td>\n",
       "      <td>2005 Caterpillar CB534D Tandem Vibratory Rolle...</td>\n",
       "    </tr>\n",
       "    <tr>\n",
       "      <th>4</th>\n",
       "      <td>2018-01-30T23:28:30.000+02:00</td>\n",
       "      <td>english</td>\n",
       "      <td>QR Code Link to This Post 2007 CATERPILLAR D4G...</td>\n",
       "      <td>2007 CATERPILLAR D4G LGP CAB SCREEN/SWEEPS - O...</td>\n",
       "    </tr>\n",
       "  </tbody>\n",
       "</table>\n",
       "</div>"
      ],
      "text/plain": [
       "                         crawled language  \\\n",
       "0  2018-01-30T23:03:51.004+02:00  english   \n",
       "1  2018-01-30T23:06:46.024+02:00  english   \n",
       "2  2018-01-30T23:18:35.023+02:00  english   \n",
       "3  2018-01-30T23:20:54.012+02:00  english   \n",
       "4  2018-01-30T23:28:30.000+02:00  english   \n",
       "\n",
       "                                                text  \\\n",
       "0  by Abhishek K Global Telehandler Market 2023 D...   \n",
       "1  favorite this post 2014 Caterpillar 314E LCR h...   \n",
       "2  By: MAX NISEN The Amazon health care threat ha...   \n",
       "3  QR Code Link to This Post MONTHLY PUBLIC AUCTI...   \n",
       "4  QR Code Link to This Post 2007 CATERPILLAR D4G...   \n",
       "\n",
       "                                               title  \n",
       "0  Global Telehandler Market 2023 Demand by Segme...  \n",
       "1                          2014 Caterpillar 314E LCR  \n",
       "2  Amazon, Berkshire, JPMorgan health announcemen...  \n",
       "3  2005 Caterpillar CB534D Tandem Vibratory Rolle...  \n",
       "4  2007 CATERPILLAR D4G LGP CAB SCREEN/SWEEPS - O...  "
      ]
     },
     "execution_count": 15,
     "metadata": {},
     "output_type": "execute_result"
    }
   ],
   "source": [
    "df.head()"
   ]
  },
  {
   "cell_type": "code",
   "execution_count": 16,
   "metadata": {},
   "outputs": [
    {
     "data": {
      "text/plain": [
       "array(['english'], dtype=object)"
      ]
     },
     "execution_count": 16,
     "metadata": {},
     "output_type": "execute_result"
    }
   ],
   "source": [
    "df.language.unique()"
   ]
  },
  {
   "cell_type": "markdown",
   "metadata": {},
   "source": [
    "All news articles are in English"
   ]
  },
  {
   "cell_type": "markdown",
   "metadata": {},
   "source": [
    "###### Filtering text which does not contain Caterpillar"
   ]
  },
  {
   "cell_type": "code",
   "execution_count": 17,
   "metadata": {},
   "outputs": [
    {
     "data": {
      "text/plain": [
       "(100, 4)"
      ]
     },
     "execution_count": 17,
     "metadata": {},
     "output_type": "execute_result"
    }
   ],
   "source": [
    "df.shape"
   ]
  },
  {
   "cell_type": "code",
   "execution_count": 18,
   "metadata": {},
   "outputs": [
    {
     "data": {
      "text/plain": [
       "(88, 4)"
      ]
     },
     "execution_count": 18,
     "metadata": {},
     "output_type": "execute_result"
    }
   ],
   "source": [
    "df = df[df['text'].str.contains(\"Caterpillar\")]\n",
    "df.shape"
   ]
  },
  {
   "cell_type": "markdown",
   "metadata": {},
   "source": [
    "###### Filtering title rows which does not contain Caterpillar"
   ]
  },
  {
   "cell_type": "code",
   "execution_count": 20,
   "metadata": {},
   "outputs": [
    {
     "data": {
      "text/plain": [
       "(41, 4)"
      ]
     },
     "execution_count": 20,
     "metadata": {},
     "output_type": "execute_result"
    }
   ],
   "source": [
    "df = df[df.title.str.contains(\"Caterpillar\")]\n",
    "df.shape"
   ]
  },
  {
   "cell_type": "markdown",
   "metadata": {},
   "source": [
    "###### Performing Name Entity Recognition on the Text (we are only including chunks where label equals ORGANIZATION)"
   ]
  },
  {
   "cell_type": "code",
   "execution_count": 53,
   "metadata": {},
   "outputs": [],
   "source": [
    "entities = []\n",
    "for text in df.text.tolist():\n",
    "    entities_text = []\n",
    "    for sent in nltk.sent_tokenize(text):\n",
    "        for chunk in nltk.ne_chunk(nltk.pos_tag(nltk.word_tokenize(sent)), binary = False):\n",
    "            if hasattr(chunk, 'label'):\n",
    "                if chunk.label() == 'ORGANIZATION':\n",
    "                    entities_text.append(' '.join(c[0] for c in chunk)) #Add space as between multi-token entities\n",
    "    entities += entities_text"
   ]
  },
  {
   "cell_type": "markdown",
   "metadata": {},
   "source": [
    "###### Performing Name Entity Recognition on the Title (we are only including chunks where label equals ORGANIZATION)"
   ]
  },
  {
   "cell_type": "code",
   "execution_count": 55,
   "metadata": {},
   "outputs": [],
   "source": [
    "for text in df.title.tolist():\n",
    "    entities_title = []\n",
    "    for sent in nltk.sent_tokenize(text):\n",
    "        for chunk in nltk.ne_chunk(nltk.pos_tag(nltk.word_tokenize(sent)), binary = False):\n",
    "            if hasattr(chunk, 'label'):\n",
    "                if chunk.label() == 'ORGANIZATION':\n",
    "                    entities_title.append(' '.join(c[0] for c in chunk)) #Add space as between multi-token entities\n",
    "    entities += entities_title"
   ]
  },
  {
   "cell_type": "markdown",
   "metadata": {},
   "source": [
    "###### Printing most common names (including Caterpillar)"
   ]
  },
  {
   "cell_type": "code",
   "execution_count": 60,
   "metadata": {},
   "outputs": [
    {
     "data": {
      "text/plain": [
       "[('Caterpillar Inc.', 96),\n",
       " ('Caterpillar', 80),\n",
       " ('NYSE', 63),\n",
       " ('CAT', 46),\n",
       " ('Cat', 36),\n",
       " ('Company', 27),\n",
       " ('SEC', 23),\n",
       " ('Resource Industries', 20),\n",
       " ('Transportation', 20),\n",
       " ('Securities', 19),\n",
       " ('Exchange Commission', 19),\n",
       " ('Construction Industries', 19),\n",
       " ('Energy', 19),\n",
       " ('Financial Products', 19),\n",
       " ('Investment', 16),\n",
       " ('Lincolnian Online', 12),\n",
       " ('LLC', 12),\n",
       " ('News', 11),\n",
       " ('Ratings', 11),\n",
       " ('Motley Fool', 10),\n",
       " ('Capital Group', 8),\n",
       " ('CFO Bradley', 8),\n",
       " ('VIOLATION', 8),\n",
       " ('EPS', 8),\n",
       " ('Bank', 8),\n",
       " ('FMR', 8),\n",
       " ('WFG', 7),\n",
       " ('Vetr', 7),\n",
       " ('Credit Suisse Group', 6),\n",
       " ('Capital', 6),\n",
       " ('PAAR', 6),\n",
       " ('OSF', 6),\n",
       " ('Ledger Gazette', 6),\n",
       " ('COPYRIGHT', 5),\n",
       " ('Security National Trust', 5),\n",
       " ('NOT', 5),\n",
       " ('FY17', 5),\n",
       " ('Commercial', 4),\n",
       " ('National Bank', 4),\n",
       " ('Thomson Reuters', 4),\n",
       " ('UBS Group', 4),\n",
       " ('Reviewer', 4),\n",
       " ('Partners', 4),\n",
       " ('Jennison Associates', 4),\n",
       " ('Thalmann Financial Services Inc.', 4),\n",
       " ('YCharts', 4),\n",
       " ('FREE', 3),\n",
       " ('BMO', 3),\n",
       " ('Capital Markets', 3),\n",
       " ('OTR Global', 3),\n",
       " ('Zacks', 3),\n",
       " ('TRADEMARK', 3),\n",
       " ('Palmer Inc.', 3),\n",
       " ('Palmer', 3),\n",
       " ('MAI Capital Management', 3),\n",
       " ('MAI', 3),\n",
       " ('CEO Jim Umpleby', 3),\n",
       " ('Peoria Area Association', 3),\n",
       " ('Chase Bank', 3),\n",
       " ('Ministry', 3),\n",
       " ('CEO Bob Sehring', 3),\n",
       " ('US', 3),\n",
       " ('Motley Fool Money', 3),\n",
       " ('Total Income', 3),\n",
       " ('Republicans', 3),\n",
       " ('Trump', 3),\n",
       " ('JPMorgan', 3),\n",
       " ('GSND', 3),\n",
       " ('Very Hungry Caterpillar', 3),\n",
       " ('MEC Aerial Work Platforms', 3),\n",
       " ('PEG', 3),\n",
       " ('ILLEGAL', 3),\n",
       " ('ACTIVITY', 3),\n",
       " ('Investment Group', 3),\n",
       " ('Partnervest Advisory Services', 3),\n",
       " ('PST', 2),\n",
       " ('AUCTION', 2),\n",
       " ('Fund Management', 2),\n",
       " ('NPI', 2),\n",
       " ('Caterpillar Marine', 2),\n",
       " ('Caterpillar Marine Power', 2),\n",
       " ('UK', 2),\n",
       " ('PEORIA', 2),\n",
       " ('CAGR', 2),\n",
       " ('Journal Star', 2),\n",
       " ('Ephrata', 2),\n",
       " ('Caterpillar Inc', 2),\n",
       " ('Very Hungry Caterpillar Rocker', 2),\n",
       " ('Global Rental', 2),\n",
       " ('EMEA', 2),\n",
       " ('JLG Lift', 2),\n",
       " ('Stacey Associates Inc.', 2),\n",
       " ('LMR Partners', 2),\n",
       " ('ValuEngine', 2),\n",
       " ('America Corp', 2),\n",
       " ('Barclays', 2),\n",
       " ('Citigroup Inc', 2),\n",
       " ('OPEB', 2),\n",
       " ('NASDAQ', 2),\n",
       " ('FineMark National Bank', 2),\n",
       " ('FineMark', 2),\n",
       " ('Million Holdings', 2),\n",
       " ('Group Inc.', 2),\n",
       " ('Group', 2),\n",
       " ('Renaissance Technologies', 2),\n",
       " ('Technologies', 2),\n",
       " ('Credit', 2),\n",
       " ('Suisse Group', 2),\n",
       " ('Chip Partners Inc.', 2),\n",
       " ('McClain', 2),\n",
       " ('DPR', 2),\n",
       " ('Caterpillar Daily', 2),\n",
       " ('Osborn', 2),\n",
       " ('Partners Investment Group', 2),\n",
       " ('Dow Jones Industrials', 2),\n",
       " ('Caterpillar While', 2),\n",
       " ('Holdings Cut', 2),\n",
       " ('LCR', 1),\n",
       " ('PUBLIC', 1),\n",
       " ('Sacramento', 1),\n",
       " ('www.barnoneauction.com Bar None Auction', 1),\n",
       " ('CATCB534TFGH00412', 1),\n",
       " ('Construction Tools', 1),\n",
       " ('Trailers', 1),\n",
       " ('Support', 1),\n",
       " ('END', 1),\n",
       " ('Building Materials', 1),\n",
       " ('Miscellaneous', 1),\n",
       " ('Auction', 1),\n",
       " ('Utility', 1),\n",
       " ('Service Trucks', 1),\n",
       " ('Commercial Trucks', 1),\n",
       " ('Cities', 1),\n",
       " ('Transportation Districts', 1),\n",
       " ('California Department', 1),\n",
       " ('Transportation Trucking', 1),\n",
       " ('Week', 1),\n",
       " ('IMO', 1),\n",
       " ('IIIA', 1),\n",
       " ('RCD', 1),\n",
       " ('EPA', 1),\n",
       " ('Variable Speed', 1),\n",
       " ('Wimborne', 1),\n",
       " ('Caterpillar For', 1),\n",
       " ('Industrial', 1),\n",
       " ('Region', 1),\n",
       " ('USD', 1),\n",
       " ('Mitsubishi Heavy Industries', 1),\n",
       " ('Reliable', 1),\n",
       " ('Uninterrupted Power Growth', 1),\n",
       " ('Industrialization Restraints High', 1),\n",
       " ('Maintenance Cost Availability', 1),\n",
       " ('Alternate Energy Sources', 1),\n",
       " ('Governmental Regulations', 1),\n",
       " ('Natural Gas', 1),\n",
       " ('Contacts', 1),\n",
       " ('Senior Manager', 1),\n",
       " ('U.S./CAN Toll Free Call', 1),\n",
       " ('GMT', 1),\n",
       " ('HealthCare', 1),\n",
       " ('www.PJStar.com', 1),\n",
       " ('Regional News', 1),\n",
       " ('Reuters', 1),\n",
       " ('BB', 1),\n",
       " ('Technologies Corp.', 1),\n",
       " ('Berenberg', 1),\n",
       " ('Internal Revenue Service', 1),\n",
       " ('Honeywell International Inc.', 1),\n",
       " ('Soft', 1),\n",
       " ('QY Research', 1),\n",
       " ('FnB', 1),\n",
       " ('FMCG', 1),\n",
       " ('FREE Sample', 1),\n",
       " ('Coordinate', 1),\n",
       " ('CMM', 1),\n",
       " ('ODS', 1),\n",
       " ('VMM', 1),\n",
       " ('SR4B', 1),\n",
       " ('Transformer Included', 1),\n",
       " ('Dealer Mustang', 1),\n",
       " ('Vision', 1),\n",
       " ('Airways Pensions Investment', 1),\n",
       " ('Royal Bank', 1),\n",
       " ('Jefferies Group', 1),\n",
       " ('Seaport Global Securities', 1),\n",
       " ('Wells Fargo', 1),\n",
       " ('Berenberg Bank', 1),\n",
       " ('BMO Capital Markets', 1),\n",
       " ('Inc', 1),\n",
       " ('Inc Caterpillar Inc', 1),\n",
       " ('No Comments Vetr', 1),\n",
       " ('OTR', 1),\n",
       " ('Buy', 1),\n",
       " ('ACCESSWIRE', 1),\n",
       " ('APAC', 1),\n",
       " ('Insurance Services', 1),\n",
       " ('Machinery', 1),\n",
       " ('ME', 1),\n",
       " ('FY18', 1),\n",
       " ('Performance Snapshot', 1),\n",
       " ('Industrial Goods', 1),\n",
       " ('Farm', 1),\n",
       " ('Construction Machinery', 1),\n",
       " ('Author', 1),\n",
       " ('WARRANTY', 1),\n",
       " ('CONTACT For', 1),\n",
       " ('CFA Institute', 1),\n",
       " ('IFG Advisory', 1),\n",
       " ('UBS', 1),\n",
       " ('HoldingsChannel', 1),\n",
       " ('Oakmont Partners', 1),\n",
       " ('No Comments Louisiana', 1),\n",
       " ('WFG Advisors', 1),\n",
       " ('No Comments Convergence Investment Partners', 1),\n",
       " ('Convergence Investment Partners', 1),\n",
       " ('Neha', 1),\n",
       " ('Summit', 1),\n",
       " ('Favorable News Coverage', 1),\n",
       " ('Mitsubishi Heavy Industries Dominating', 1),\n",
       " ('PTO', 1),\n",
       " ('Lakeview', 1),\n",
       " ('Rental Mobile Work Platform', 1),\n",
       " ('GENERATORS', 1),\n",
       " ('DIESEL', 1),\n",
       " ('Recent Ratings Updates', 1),\n",
       " ('Adjusted', 1),\n",
       " ('IFG', 1),\n",
       " ('Investment Partners', 1),\n",
       " ('LLC Purchases New Position', 1)]"
      ]
     },
     "execution_count": 60,
     "metadata": {},
     "output_type": "execute_result"
    }
   ],
   "source": [
    "Counter(entities).most_common()"
   ]
  }
 ],
 "metadata": {
  "kernelspec": {
   "display_name": "Python 3",
   "language": "python",
   "name": "python3"
  },
  "language_info": {
   "codemirror_mode": {
    "name": "ipython",
    "version": 3
   },
   "file_extension": ".py",
   "mimetype": "text/x-python",
   "name": "python",
   "nbconvert_exporter": "python",
   "pygments_lexer": "ipython3",
   "version": "3.6.5"
  }
 },
 "nbformat": 4,
 "nbformat_minor": 2
}
