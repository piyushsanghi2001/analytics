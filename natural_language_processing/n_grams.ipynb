{
 "cells": [
  {
   "cell_type": "markdown",
   "metadata": {},
   "source": [
    "## Importing Libraries"
   ]
  },
  {
   "cell_type": "markdown",
   "metadata": {},
   "source": [
    "In this notebook, we'll examine the impact of choosing n in our n-grams across two libraries of texts. Onelibrary is comprised of several full-length novels, while another consists of articles of varying lenghts. We'llﬁrst deﬁne several helper functions that will be re-used throughout this process (each one is commented).We'll then proceed to evaluate our choice of n, per library, and then ﬁnally, use that n-value to compare ourlibrary of texts and return Jaccard similarity values for the more similiar texts."
   ]
  },
  {
   "cell_type": "code",
   "execution_count": 1,
   "metadata": {
    "scrolled": true
   },
   "outputs": [],
   "source": [
    "from __future__ import division\n",
    "import nltk\n",
    "import string\n",
    "import os\n",
    "from nltk.corpus import stopwords\n",
    "from itertools import combinations\n",
    "import matplotlib.pyplot as plt\n",
    "import numpy as np"
   ]
  },
  {
   "cell_type": "markdown",
   "metadata": {},
   "source": [
    "## Defining Functions"
   ]
  },
  {
   "cell_type": "code",
   "execution_count": 2,
   "metadata": {},
   "outputs": [],
   "source": [
    "def ngram_compare_files(file1,file2,n):\n",
    "    # Takes two files\n",
    "    # hashes their n-grams into twos lists\n",
    "    # calculates the intersection and union\n",
    "    # of the two lists, and returns\n",
    "    # Jacard similarity value\n",
    " \n",
    "    stop = stopwords.words('english')\n",
    "    f1 = open(file1)\n",
    "    raw = f1.read()\n",
    "    f1.close()\n",
    "    f1_grams = nltk.ngrams(raw.split(),n)\n",
    "    \n",
    "    array_1 = []\n",
    "    \n",
    "    for gram in f1_grams:\n",
    "        array_1.append(hash(gram))\n",
    "    f2 = open(file2)\n",
    "    raw = f2.read()\n",
    "    f2.close()\n",
    "    f2_grams = nltk.ngrams(raw.split(),n)\n",
    "    \n",
    "    array_2 = []\n",
    "    \n",
    "    for gram in f2_grams:\n",
    "        array_2.append(hash(gram))\n",
    "        \n",
    "    intersection = len(list(set(array_1).intersection(array_2)))    \n",
    "    union = len(set(array_1)) + len(set(array_2)) - intersection\n",
    "    jacard_similarity = intersection / union\n",
    "    return jacard_similarity\n",
    "\n",
    "\n",
    "def pairs_of_files(directory):\n",
    "    # returns combination of two files given\n",
    "    # all files in a directory\n",
    "    \n",
    "    dir = os.listdir(directory)\n",
    "    combo = combinations(dir, 2)\n",
    "    return combo\n",
    "\n",
    "def compare_files(directory,ngram_size,threshold):\n",
    "    # compares all pairs of files in a directory\n",
    "    # for similarity.\n",
    "    # RETURNS: Dictionary, with key as\n",
    "    # comma-separated string of two files\n",
    "    # and value of similarity index as decimal\n",
    "    # where similarity index is above threshold\n",
    "    # value.\n",
    "    \n",
    "    compare_dictionary = {}\n",
    "    \n",
    "    ngram = ngram_size\n",
    "    combo = pairs_of_files(directory)\n",
    "    \n",
    "    for i in combo:\n",
    "        \n",
    "        sim = ngram_compare_files(directory+str(i[0]),directory+str(i[1]),ngram)\n",
    "        if sim > threshold:\n",
    "            \n",
    "            key = str(i[0]) + \",\" + str(i[1])\n",
    "            value = sim\n",
    "            compare_dictionary[key]=value\n",
    "            \n",
    "    return compare_dictionary            "
   ]
  },
  {
   "cell_type": "markdown",
   "metadata": {},
   "source": [
    "## Choosing 'N'"
   ]
  },
  {
   "cell_type": "markdown",
   "metadata": {},
   "source": [
    "In order to determine a proper N-value for a n-grams, we evaluate the impact of N over a range of 2 to 20.\n",
    "We do this by repeating our similarity measure (Jaccardian similarity) for each N, and plotting similairity."
   ]
  },
  {
   "cell_type": "markdown",
   "metadata": {},
   "source": [
    "### Running for Books"
   ]
  },
  {
   "cell_type": "code",
   "execution_count": 3,
   "metadata": {},
   "outputs": [],
   "source": [
    "dir = 'C:/Users/Piyush/Google Drive/MScA/nlp/assignment_3/'"
   ]
  },
  {
   "cell_type": "code",
   "execution_count": 4,
   "metadata": {},
   "outputs": [],
   "source": [
    "x = []\n",
    "y = []\n",
    "yall = []\n",
    "\n",
    "for n in range(2,20):\n",
    "        \n",
    "    books_comparison = compare_files(dir+'Assignment_3_Books/',ngram_size=n,threshold=-1)\n",
    "    a = np.zeros(len(books_comparison))\n",
    "    counter = 0\n",
    "    for key, value in books_comparison.items():\n",
    "        a[counter] = value\n",
    "        counter +=1\n",
    "    #print str(n) + \":\" + str(a.mean())\n",
    "    x.append(n)\n",
    "    yall.append(a*100)\n",
    "    y.append(a.mean()*100)"
   ]
  },
  {
   "cell_type": "code",
   "execution_count": 5,
   "metadata": {},
   "outputs": [],
   "source": [
    "books_n = list(x)\n",
    "books_similarity = list(y)"
   ]
  },
  {
   "cell_type": "markdown",
   "metadata": {},
   "source": [
    "Plot the distributions"
   ]
  },
  {
   "cell_type": "code",
   "execution_count": 6,
   "metadata": {},
   "outputs": [
    {
     "data": {
      "image/png": "[encoded data removed]",
      "text/plain": [
       "<Figure size 432x288 with 1 Axes>"
      ]
     },
     "metadata": {},
     "output_type": "display_data"
    }
   ],
   "source": [
    "plt.plot(x,y, linestyle = '-')\n",
    "#plt.plot(x,yall, linestyle = '--')\n",
    "plt.xlabel('n in n-grams')\n",
    "plt.ylabel('Similarity (pct)')\n",
    "plt.title('Similarity Across All Books per N n-gram')\n",
    "plt.grid()\n",
    "plt.show()"
   ]
  },
  {
   "cell_type": "markdown",
   "metadata": {},
   "source": [
    "I would recommend n as 4 as we see steep drop in similarity percentage from 2 to 4 which is an indication that for n = 2,3 stopwords are being counted as similar between books. At n=4 we would have some stopwords being counted as duplicate, however the difference between 4 and 5 is very less and would be worth selecting a smaller n. In addition, the similarity percentage for n 5 and above is consistent which indicates that we definately have duplicates, however selecting n as 5 or higher might not provide a generalized threshold and could lead to over-fitting."
   ]
  },
  {
   "cell_type": "markdown",
   "metadata": {},
   "source": [
    "### Running for Articles"
   ]
  },
  {
   "cell_type": "code",
   "execution_count": 7,
   "metadata": {},
   "outputs": [],
   "source": [
    "x = []\n",
    "y = []\n",
    "yall = []\n",
    "\n",
    "for n in range(2,20):\n",
    "    \n",
    "    art_comparison = compare_files(dir+'Assignment_3_Articles/',ngram_size=n,threshold=-1)\n",
    "    a = np.zeros(len(art_comparison))\n",
    "    counter = 0\n",
    "    for key, value in art_comparison.items():\n",
    "        a[counter] = value\n",
    "        counter +=1\n",
    "    #print str(n) + \":\" + str(a.mean())\n",
    "    x.append(n)\n",
    "    yall.append(a*100)\n",
    "    y.append(a.mean()*100)"
   ]
  },
  {
   "cell_type": "code",
   "execution_count": 8,
   "metadata": {},
   "outputs": [
    {
     "data": {
      "image/png": "[encoded data removed]",
      "text/plain": [
       "<Figure size 432x288 with 1 Axes>"
      ]
     },
     "metadata": {},
     "output_type": "display_data"
    }
   ],
   "source": [
    "plt.plot(x,y, linestyle = '-')\n",
    "#plt.plot(x,yall, linestyle = '--')\n",
    "plt.xlabel('n in n-grams')\n",
    "plt.ylabel('Similarity (pct)')\n",
    "plt.title('Mean Similarity Across All Articles per N n-gram')\n",
    "plt.grid()\n",
    "plt.show()"
   ]
  },
  {
   "cell_type": "markdown",
   "metadata": {},
   "source": [
    "I would recommend n as 3 as we see steep drop in similarity percentage from 2 to 3 which is an indication that for n = 2 stopwords are being counted as similar between books. At n=3 we would have some stopwords being counted as duplicate, however the difference between 3 and 4 is very less and would be worth selecting a smaller n. In addition, the similarity percentage for n = 4 and above is reducing very less and headed towards 0. Selecting n = 4 might seem ideal however it is possible the value may not be generalized for all articles."
   ]
  },
  {
   "cell_type": "markdown",
   "metadata": {},
   "source": [
    "## Books measuring similarity"
   ]
  },
  {
   "cell_type": "markdown",
   "metadata": {},
   "source": [
    "After having our n for books chosen as '4', we'll examine the similairty of our set of books, and use a\n",
    "threshold value of 2%. This threshold value will filter our any books with similarities below that value, in order\n",
    "to allow us to focus on the most promininent combinations of books that are similar."
   ]
  },
  {
   "cell_type": "code",
   "execution_count": 9,
   "metadata": {},
   "outputs": [
    {
     "name": "stdout",
     "output_type": "stream",
     "text": [
      "Adventures_of_Sherlock_Holmes.txt is similar to Hound_of_the_Baskervilles.txt with a Similarity Index of 2.444%\n",
      "Adventures_of_Sherlock_Holmes.txt is similar to Return_of_Sherlock_Holmes.txt with a Similarity Index of 2.332%\n",
      "Hound_of_the_Baskervilles.txt is similar to Return_of_Sherlock_Holmes.txt with a Similarity Index of 2.430%\n"
     ]
    }
   ],
   "source": [
    "books_comparison = compare_files(dir+'Assignment_3_Books/',ngram_size=4,threshold=0.02)\n",
    "\n",
    "\n",
    "for key, similarity_index in books_comparison.items():\n",
    "    book1, book2 = key.split(',')\n",
    "    print (\"{0} is similar to {1} with a Similarity Index of {2:.3%}\".format(book1, book2, similarity_index))"
   ]
  },
  {
   "cell_type": "markdown",
   "metadata": {},
   "source": [
    "## Articles measuring similarity"
   ]
  },
  {
   "cell_type": "markdown",
   "metadata": {},
   "source": [
    "After having our n for articles chosen as '3', we'll examine the similairty of our set of articles, and use a\n",
    "threshold value of 3%. This threshold value will filter our any articles with similarities below that value, in\n",
    "order to allow us to focus on the most promininent combinations of articles that are similar."
   ]
  },
  {
   "cell_type": "code",
   "execution_count": 10,
   "metadata": {},
   "outputs": [
    {
     "name": "stdout",
     "output_type": "stream",
     "text": [
      "article1.txt is similar to article18.txt with a Similarity Index of 3.681%\n",
      "article10.txt is similar to article13.txt with a Similarity Index of 21.798%\n",
      "article10.txt is similar to article14.txt with a Similarity Index of 3.052%\n",
      "article10.txt is similar to article6.txt with a Similarity Index of 6.166%\n",
      "article14.txt is similar to article6.txt with a Similarity Index of 8.135%\n",
      "article16.txt is similar to article17.txt with a Similarity Index of 72.589%\n",
      "article18.txt is similar to article3.txt with a Similarity Index of 3.150%\n",
      "article26.txt is similar to article28.txt with a Similarity Index of 9.790%\n",
      "article26.txt is similar to article31.txt with a Similarity Index of 8.000%\n",
      "article28.txt is similar to article31.txt with a Similarity Index of 8.621%\n",
      "article3.txt is similar to article4.txt with a Similarity Index of 13.592%\n"
     ]
    }
   ],
   "source": [
    "articles_comparison = compare_files(dir+'Assignment_3_Articles/',ngram_size=3,threshold=0.03)\n",
    "\n",
    "\n",
    "for k,v in articles_comparison.items():\n",
    "    art1, art2 = k.split(',')\n",
    "    similarity_index = v\n",
    "    print(\"{0} is similar to {1} with a Similarity Index of {2:.3%}\".format(art1, art2, similarity_index))"
   ]
  },
  {
   "cell_type": "markdown",
   "metadata": {},
   "source": [
    "## Analysis results"
   ]
  },
  {
   "cell_type": "markdown",
   "metadata": {},
   "source": [
    "###### Which articles / books were similar and which ones were dissimilar?"
   ]
  },
  {
   "cell_type": "markdown",
   "metadata": {},
   "source": [
    "Following articles and books were similar/dissimilar\n",
    "\n",
    "###### Books (Similar)\n",
    " - Adventures_of_Sherlock_Holmes.txt is similar to Hound_of_the_Baskervilles.txt with a Similarity Index of 2.444%\n",
    " - Adventures_of_Sherlock_Holmes.txt is similar to Return_of_Sherlock_Holmes.txt with a Similarity Index of 2.332%\n",
    " - Hound_of_the_Baskervilles.txt is similar to Return_of_Sherlock_Holmes.txt with a Similarity Index of 2.430%\n",
    "\n",
    "###### Books (Dissimilar)\n",
    "3boat10 is dissimilar to Adventures_of_Sherlock_Holmes, Return_of_Sherlock_Holmes, and Hound_of_the_Baskervilles\n",
    "\n",
    "###### Articles (Similar)\n",
    "\n",
    " - article1.txt is similar to article18.txt with a Similarity Index of 3.681%\n",
    " - article10.txt is similar to article13.txt with a Similarity Index of 21.798%\n",
    " - article10.txt is similar to article14.txt with a Similarity Index of 3.052%\n",
    " - article10.txt is similar to article6.txt with a Similarity Index of 6.166%\n",
    " - article14.txt is similar to article6.txt with a Similarity Index of 8.135%\n",
    " - article16.txt is similar to article17.txt with a Similarity Index of 72.589%\n",
    " - article18.txt is similar to article3.txt with a Similarity Index of 3.150%\n",
    " - article26.txt is similar to article28.txt with a Similarity Index of 9.790%\n",
    " - article26.txt is similar to article31.txt with a Similarity Index of 8.000%\n",
    " - article28.txt is similar to article31.txt with a Similarity Index of 8.621%\n",
    " - article3.txt is similar to article4.txt with a Similarity Index of 13.592%\n",
    "\n",
    "###### Articles (Dissimilar)\n",
    " - article2\n",
    " - article5\n",
    " - article7\n",
    " - article8\n",
    " - article9\n",
    " - article11\n",
    " - article12\n",
    " - article15\n",
    " - article19\n",
    " - article20\n",
    " - article21\n",
    " - article22\n",
    "and so on"
   ]
  },
  {
   "cell_type": "markdown",
   "metadata": {},
   "source": [
    "###### A brief write-up explaining why and how you chose “n” for you analysis (for n-grams)"
   ]
  },
  {
   "cell_type": "markdown",
   "metadata": {},
   "source": [
    "I chose n by looking at the plots and the slope change between different values of n. A steep drop is slope represents reduction of false positives. Once the slope starts plateauing, we start seeing actual duplicates. These are the duplicates which we care about, however these duplicates probably include some false positives. Taking a larger value of n would have prevented false positives, however it would have also led to over-fitting (i.e. the value of n and threshold will have been a generalized value for use with unseen data)."
   ]
  },
  {
   "cell_type": "markdown",
   "metadata": {
    "collapsed": true
   },
   "source": [
    "###### Was the “n” identical or different for books vs. articles and why"
   ]
  },
  {
   "cell_type": "markdown",
   "metadata": {},
   "source": [
    "The value of n for books and article is different. Explanation as follows,\n",
    "\n",
    "###### Books (n = 4)\n",
    "\n",
    "I would recommend n as 4 as we see steep drop in similarity percentage from 2 to 4 which is an indication that for n = 2,3 stopwords are being counted as similar between books. At n=4 we would have some stopwords being counted as duplicate, however the difference between 4 and 5 is very less and would be worth selecting a smaller n. In addition, the similarity percentage for n 5 and above is consistent which indicates that we definately have duplicates, however selecting n as 5 or higher might not provide a generalized threshold and could lead to over-fitting.\n",
    "\n",
    "###### Articles (n = 3)\n",
    "\n",
    "I would recommend n as 3 as we see steep drop in similarity percentage from 2 to 3 which is an indication that for n = 2 stopwords are being counted as similar between books. At n=3 we would have some stopwords being counted as duplicate, however the difference between 3 and 4 is very less and would be worth selecting a smaller n. In addition, the similarity percentage for n = 4 and above is reducing very less and headed towards 0. Selecting n = 4 might seem ideal however it is possible the value may not be generalized for all articles.\n"
   ]
  },
  {
   "cell_type": "markdown",
   "metadata": {},
   "source": [
    "###### Visualize the selection of “n”"
   ]
  },
  {
   "cell_type": "code",
   "execution_count": 11,
   "metadata": {},
   "outputs": [
    {
     "data": {
      "image/png": "[encoded data removed]",
      "text/plain": [
       "<Figure size 432x288 with 1 Axes>"
      ]
     },
     "metadata": {},
     "output_type": "display_data"
    },
    {
     "data": {
      "image/png": "[encoded data removed]",
      "text/plain": [
       "<Figure size 432x288 with 1 Axes>"
      ]
     },
     "metadata": {},
     "output_type": "display_data"
    }
   ],
   "source": [
    "plt.plot(books_n, books_similarity, linestyle = '-')\n",
    "plt.plot(books_n[2], books_similarity[2], 'g*')\n",
    "plt.xlabel('n in n-grams')\n",
    "plt.ylabel('Similarity (pct)')\n",
    "plt.title('Similarity Across All Books per N n-gram')\n",
    "plt.grid()\n",
    "plt.show()\n",
    "\n",
    "plt.plot(x,y, linestyle = '-')\n",
    "plt.plot(x[1], y[1], 'g*')\n",
    "plt.xlabel('n in n-grams')\n",
    "plt.ylabel('Similarity (pct)')\n",
    "plt.title('Mean Similarity Across All Articles per N n-gram')\n",
    "plt.grid()\n",
    "plt.show()"
   ]
  }
 ],
 "metadata": {
  "kernelspec": {
   "display_name": "Python 3",
   "language": "python",
   "name": "python3"
  },
  "language_info": {
   "codemirror_mode": {
    "name": "ipython",
    "version": 3
   },
   "file_extension": ".py",
   "mimetype": "text/x-python",
   "name": "python",
   "nbconvert_exporter": "python",
   "pygments_lexer": "ipython3",
   "version": "3.6.5"
  }
 },
 "nbformat": 4,
 "nbformat_minor": 1
}
